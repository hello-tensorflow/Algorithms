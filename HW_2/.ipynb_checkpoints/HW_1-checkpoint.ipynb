{
 "cells": [
  {
   "cell_type": "markdown",
   "id": "5f7703d3",
   "metadata": {},
   "source": [
    "## Задание №0 - String"
   ]
  },
  {
   "cell_type": "code",
   "execution_count": 1,
   "id": "fbbde643",
   "metadata": {},
   "outputs": [],
   "source": [
    "import os"
   ]
  },
  {
   "cell_type": "code",
   "execution_count": 2,
   "id": "39133628",
   "metadata": {},
   "outputs": [],
   "source": [
    "def check_test(in_path, out_path, num):\n",
    "    with open(in_path, 'r') as f_1:\n",
    "        in_t = f_1.read()\n",
    "    c = in_t.rstrip(\"\\n\")\n",
    "    \n",
    "    with open(out_path, 'r') as f_2:\n",
    "        out_t = f_2.read()\n",
    "\n",
    "    if len(c) == int(out_t):\n",
    "        print('Test #{} is correct!'.format(num))\n",
    "    else:\n",
    "        print('Test #{} is incorrect!'.format(num))\n",
    "        \n",
    "def tests(path):\n",
    "    paths = os.listdir(path)\n",
    "    unique_nums = set([el.split(\".\")[1] for el in paths if el.split(\".\")[0] == 'test'])\n",
    "    for i in unique_nums:\n",
    "        in_path = path + 'test.' + i + '.in'\n",
    "        out_path = path + 'test.' + i + '.out'\n",
    "        check_test(in_path, out_path, i)"
   ]
  },
  {
   "cell_type": "code",
   "execution_count": 3,
   "id": "7bb4549a",
   "metadata": {},
   "outputs": [
    {
     "name": "stdout",
     "output_type": "stream",
     "text": [
      "Test #0 is correct!\n",
      "Test #1 is correct!\n",
      "Test #4 is incorrect!\n",
      "Test #2 is correct!\n",
      "Test #3 is correct!\n"
     ]
    }
   ],
   "source": [
    "path = './0.String/'\n",
    "tests(path)"
   ]
  },
  {
   "cell_type": "markdown",
   "id": "617a8727",
   "metadata": {},
   "source": [
    "## Задание №1 - Tickets"
   ]
  },
  {
   "cell_type": "code",
   "execution_count": 4,
   "id": "8ab527c3",
   "metadata": {},
   "outputs": [],
   "source": [
    "import os\n",
    "import numpy as np"
   ]
  },
  {
   "cell_type": "code",
   "execution_count": 5,
   "id": "eb1cbaaa",
   "metadata": {},
   "outputs": [],
   "source": [
    "def func(x):\n",
    "    \n",
    "    if x == 1:\n",
    "        a = np.ones(10, dtype=np.float64)\n",
    "        return a\n",
    "    else:\n",
    "        a = func(x-1)\n",
    "\n",
    "    b = np.zeros(x*9+1, dtype=np.float64)\n",
    "\n",
    "    for i in range(10):\n",
    "        c = np.zeros(i, dtype=np.float64)\n",
    "        e = np.zeros(10-i-1, dtype=np.float64)\n",
    "        d = np.concatenate([c,a,e])\n",
    "\n",
    "        b = np.add(b,d)\n",
    "    \n",
    "    return b\n",
    "\n",
    "def tickets(x):\n",
    "    row_2 = [el**2 for el in func(x)]\n",
    "    return int(sum(row_2))"
   ]
  },
  {
   "cell_type": "code",
   "execution_count": 6,
   "id": "f40d0d26",
   "metadata": {},
   "outputs": [],
   "source": [
    "def check_test(in_path, out_path, num):\n",
    "    with open(in_path, 'r') as f_1:\n",
    "        in_t = f_1.read()\n",
    "    c = in_t.rstrip(\"\\n\")\n",
    "    res = tickets(int(c))\n",
    "\n",
    "    with open(out_path, 'r') as f_2:\n",
    "        out_t = f_2.read()\n",
    "\n",
    "    if res == int(out_t):\n",
    "        print('Test #{} is correct!'.format(num))\n",
    "    else:\n",
    "        print('Test #{} is incorrect!'.format(num))\n",
    "\n",
    "def tests(path):\n",
    "    paths = os.listdir(path)\n",
    "    unique_nums = set([el.split(\".\")[1] for el in paths if el.split(\".\")[0] == 'test'])\n",
    "    for i in unique_nums:\n",
    "        in_path = path + 'test.' + i + '.in'\n",
    "        out_path = path + 'test.' + i + '.out'\n",
    "        check_test(in_path, out_path, i)"
   ]
  },
  {
   "cell_type": "code",
   "execution_count": 7,
   "id": "b996b8dd",
   "metadata": {},
   "outputs": [
    {
     "name": "stdout",
     "output_type": "stream",
     "text": [
      "Test #0 is correct!\n",
      "Test #1 is correct!\n",
      "Test #6 is correct!\n",
      "Test #4 is correct!\n",
      "Test #8 is incorrect!\n",
      "Test #2 is correct!\n",
      "Test #7 is correct!\n",
      "Test #5 is correct!\n",
      "Test #3 is correct!\n",
      "Test #9 is incorrect!\n"
     ]
    }
   ],
   "source": [
    "path = './1.Tickets/'\n",
    "tests(path)"
   ]
  },
  {
   "cell_type": "code",
   "execution_count": null,
   "id": "5fcbd19e",
   "metadata": {},
   "outputs": [],
   "source": []
  }
 ],
 "metadata": {
  "kernelspec": {
   "display_name": "Python 3 (ipykernel)",
   "language": "python",
   "name": "python3"
  },
  "language_info": {
   "codemirror_mode": {
    "name": "ipython",
    "version": 3
   },
   "file_extension": ".py",
   "mimetype": "text/x-python",
   "name": "python",
   "nbconvert_exporter": "python",
   "pygments_lexer": "ipython3",
   "version": "3.9.0"
  }
 },
 "nbformat": 4,
 "nbformat_minor": 5
}
